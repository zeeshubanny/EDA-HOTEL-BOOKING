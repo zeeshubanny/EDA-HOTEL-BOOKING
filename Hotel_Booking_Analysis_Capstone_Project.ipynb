{
  "nbformat": 4,
  "nbformat_minor": 0,
  "metadata": {
    "kernelspec": {
      "display_name": "Python 3",
      "language": "python",
      "name": "python3"
    },
    "language_info": {
      "codemirror_mode": {
        "name": "ipython",
        "version": 3
      },
      "file_extension": ".py",
      "mimetype": "text/x-python",
      "name": "python",
      "nbconvert_exporter": "python",
      "pygments_lexer": "ipython3",
      "version": "3.6.6"
    },
    "colab": {
      "name": "Hotel Booking Analysis - Capstone Project.ipynb",
      "provenance": [],
      "collapsed_sections": [],
      "include_colab_link": true
    }
  },
  "cells": [
    {
      "cell_type": "markdown",
      "metadata": {
        "id": "view-in-github",
        "colab_type": "text"
      },
      "source": [
        "<a href=\"https://colab.research.google.com/github/zeeshubanny/EDA-HOTEL-BOOKING/blob/main/Hotel_Booking_Analysis_Capstone_Project.ipynb\" target=\"_parent\"><img src=\"https://colab.research.google.com/assets/colab-badge.svg\" alt=\"Open In Colab\"/></a>"
      ]
    },
    {
      "cell_type": "markdown",
      "metadata": {
        "id": "Y06xIdG26kRF"
      },
      "source": [
        "## <b> Have you ever wondered when the best time of year to book a hotel room is? Or the optimal length of stay in order to get the best daily rate? What if you wanted to predict whether or not a hotel was likely to receive a disproportionately high number of special requests? This hotel booking dataset can help you explore those questions!\n",
        "\n",
        "## <b>This data set contains booking information for a city hotel and a resort hotel, and includes information such as when the booking was made, length of stay, the number of adults, children, and/or babies, and the number of available parking spaces, among other things. All personally identifying information has been removed from the data. </b>\n",
        "\n",
        "## <b> Explore and analyze the data to discover important factors that govern the bookings. </b>"
      ]
    },
    {
      "cell_type": "markdown",
      "metadata": {
        "id": "AvFIPu48ZWko"
      },
      "source": [
        "### For this EDA project, I will use the topic “Hotel booking” and given data.\n",
        "\n",
        "This data set varies the booking information for a city hotel and a resort hotel, and also it contains information such as when the booking was made, length of stay, the number of adults, children, and/or babies, and the number of available parking spaces, among other things. \n",
        "\n",
        "##lets discuss about what i am doing in this dataset.\n",
        "\n",
        "\n",
        "\n",
        "\n",
        "*   **What type of hotel has more bookings?** (city hotel or resort hotel)\n",
        "*  **Which are the most busy months?**\n",
        "*  **Cancellation rates in the two types of hotels.**\n",
        "*  **Types of visitors? (No. of adults, children, babies)**\n",
        "*  **Repeated guests.**\n"
      ]
    },
    {
      "cell_type": "markdown",
      "metadata": {
        "id": "rXjb78uIZdKB"
      },
      "source": [
        "#Data Preparation and Cleaning\n",
        "\n",
        "##The first step is to import the main libraries that we will use for this project."
      ]
    },
    {
      "cell_type": "code",
      "metadata": {
        "id": "dByMsuzT8Tnw"
      },
      "source": [
        "import pandas as pd\n",
        "import numpy as np\n",
        "import seaborn as sns\n",
        "import matplotlib.pyplot as plt\n",
        "%matplotlib inline"
      ],
      "execution_count": 2,
      "outputs": []
    },
    {
      "cell_type": "markdown",
      "metadata": {
        "id": "PViFXLwdX4g6"
      },
      "source": [
        "##storing the data in dataframe.\n",
        "Now, we download the dataset to use it as a pandas dataframe."
      ]
    },
    {
      "cell_type": "code",
      "metadata": {
        "id": "hKxqzbbDklGf",
        "colab": {
          "base_uri": "https://localhost:8080/"
        },
        "outputId": "1445e483-6a33-45f6-ed3e-e3d32d3348c3"
      },
      "source": [
        "from google.colab import drive\n",
        "drive.mount('/content/drive')"
      ],
      "execution_count": 3,
      "outputs": [
        {
          "output_type": "stream",
          "name": "stdout",
          "text": [
            "Mounted at /content/drive\n"
          ]
        }
      ]
    },
    {
      "cell_type": "code",
      "metadata": {
        "id": "YTWsPKkQkmoq"
      },
      "source": [
        "hotel_data = pd.read_csv('/content/drive/MyDrive/CAPSTONE PROJECT/Hotel Bookings.csv')\n"
      ],
      "execution_count": 19,
      "outputs": []
    },
    {
      "cell_type": "code",
      "metadata": {
        "id": "iBuBAy-qk1Ga",
        "colab": {
          "base_uri": "https://localhost:8080/",
          "height": 309
        },
        "outputId": "cd78b51e-d200-4dc5-81f1-d3eaae82f60b"
      },
      "source": [
        "hotel_data.head()"
      ],
      "execution_count": 5,
      "outputs": [
        {
          "output_type": "execute_result",
          "data": {
            "text/html": [
              "<div>\n",
              "<style scoped>\n",
              "    .dataframe tbody tr th:only-of-type {\n",
              "        vertical-align: middle;\n",
              "    }\n",
              "\n",
              "    .dataframe tbody tr th {\n",
              "        vertical-align: top;\n",
              "    }\n",
              "\n",
              "    .dataframe thead th {\n",
              "        text-align: right;\n",
              "    }\n",
              "</style>\n",
              "<table border=\"1\" class=\"dataframe\">\n",
              "  <thead>\n",
              "    <tr style=\"text-align: right;\">\n",
              "      <th></th>\n",
              "      <th>hotel</th>\n",
              "      <th>is_canceled</th>\n",
              "      <th>lead_time</th>\n",
              "      <th>arrival_date_year</th>\n",
              "      <th>arrival_date_month</th>\n",
              "      <th>arrival_date_week_number</th>\n",
              "      <th>arrival_date_day_of_month</th>\n",
              "      <th>stays_in_weekend_nights</th>\n",
              "      <th>stays_in_week_nights</th>\n",
              "      <th>adults</th>\n",
              "      <th>children</th>\n",
              "      <th>babies</th>\n",
              "      <th>meal</th>\n",
              "      <th>country</th>\n",
              "      <th>market_segment</th>\n",
              "      <th>distribution_channel</th>\n",
              "      <th>is_repeated_guest</th>\n",
              "      <th>previous_cancellations</th>\n",
              "      <th>previous_bookings_not_canceled</th>\n",
              "      <th>reserved_room_type</th>\n",
              "      <th>assigned_room_type</th>\n",
              "      <th>booking_changes</th>\n",
              "      <th>deposit_type</th>\n",
              "      <th>agent</th>\n",
              "      <th>company</th>\n",
              "      <th>days_in_waiting_list</th>\n",
              "      <th>customer_type</th>\n",
              "      <th>adr</th>\n",
              "      <th>required_car_parking_spaces</th>\n",
              "      <th>total_of_special_requests</th>\n",
              "      <th>reservation_status</th>\n",
              "      <th>reservation_status_date</th>\n",
              "    </tr>\n",
              "  </thead>\n",
              "  <tbody>\n",
              "    <tr>\n",
              "      <th>0</th>\n",
              "      <td>Resort Hotel</td>\n",
              "      <td>0</td>\n",
              "      <td>342</td>\n",
              "      <td>2015</td>\n",
              "      <td>July</td>\n",
              "      <td>27</td>\n",
              "      <td>1</td>\n",
              "      <td>0</td>\n",
              "      <td>0</td>\n",
              "      <td>2</td>\n",
              "      <td>0.0</td>\n",
              "      <td>0</td>\n",
              "      <td>BB</td>\n",
              "      <td>PRT</td>\n",
              "      <td>Direct</td>\n",
              "      <td>Direct</td>\n",
              "      <td>0</td>\n",
              "      <td>0</td>\n",
              "      <td>0</td>\n",
              "      <td>C</td>\n",
              "      <td>C</td>\n",
              "      <td>3</td>\n",
              "      <td>No Deposit</td>\n",
              "      <td>NaN</td>\n",
              "      <td>NaN</td>\n",
              "      <td>0</td>\n",
              "      <td>Transient</td>\n",
              "      <td>0.0</td>\n",
              "      <td>0</td>\n",
              "      <td>0</td>\n",
              "      <td>Check-Out</td>\n",
              "      <td>2015-07-01</td>\n",
              "    </tr>\n",
              "    <tr>\n",
              "      <th>1</th>\n",
              "      <td>Resort Hotel</td>\n",
              "      <td>0</td>\n",
              "      <td>737</td>\n",
              "      <td>2015</td>\n",
              "      <td>July</td>\n",
              "      <td>27</td>\n",
              "      <td>1</td>\n",
              "      <td>0</td>\n",
              "      <td>0</td>\n",
              "      <td>2</td>\n",
              "      <td>0.0</td>\n",
              "      <td>0</td>\n",
              "      <td>BB</td>\n",
              "      <td>PRT</td>\n",
              "      <td>Direct</td>\n",
              "      <td>Direct</td>\n",
              "      <td>0</td>\n",
              "      <td>0</td>\n",
              "      <td>0</td>\n",
              "      <td>C</td>\n",
              "      <td>C</td>\n",
              "      <td>4</td>\n",
              "      <td>No Deposit</td>\n",
              "      <td>NaN</td>\n",
              "      <td>NaN</td>\n",
              "      <td>0</td>\n",
              "      <td>Transient</td>\n",
              "      <td>0.0</td>\n",
              "      <td>0</td>\n",
              "      <td>0</td>\n",
              "      <td>Check-Out</td>\n",
              "      <td>2015-07-01</td>\n",
              "    </tr>\n",
              "    <tr>\n",
              "      <th>2</th>\n",
              "      <td>Resort Hotel</td>\n",
              "      <td>0</td>\n",
              "      <td>7</td>\n",
              "      <td>2015</td>\n",
              "      <td>July</td>\n",
              "      <td>27</td>\n",
              "      <td>1</td>\n",
              "      <td>0</td>\n",
              "      <td>1</td>\n",
              "      <td>1</td>\n",
              "      <td>0.0</td>\n",
              "      <td>0</td>\n",
              "      <td>BB</td>\n",
              "      <td>GBR</td>\n",
              "      <td>Direct</td>\n",
              "      <td>Direct</td>\n",
              "      <td>0</td>\n",
              "      <td>0</td>\n",
              "      <td>0</td>\n",
              "      <td>A</td>\n",
              "      <td>C</td>\n",
              "      <td>0</td>\n",
              "      <td>No Deposit</td>\n",
              "      <td>NaN</td>\n",
              "      <td>NaN</td>\n",
              "      <td>0</td>\n",
              "      <td>Transient</td>\n",
              "      <td>75.0</td>\n",
              "      <td>0</td>\n",
              "      <td>0</td>\n",
              "      <td>Check-Out</td>\n",
              "      <td>2015-07-02</td>\n",
              "    </tr>\n",
              "    <tr>\n",
              "      <th>3</th>\n",
              "      <td>Resort Hotel</td>\n",
              "      <td>0</td>\n",
              "      <td>13</td>\n",
              "      <td>2015</td>\n",
              "      <td>July</td>\n",
              "      <td>27</td>\n",
              "      <td>1</td>\n",
              "      <td>0</td>\n",
              "      <td>1</td>\n",
              "      <td>1</td>\n",
              "      <td>0.0</td>\n",
              "      <td>0</td>\n",
              "      <td>BB</td>\n",
              "      <td>GBR</td>\n",
              "      <td>Corporate</td>\n",
              "      <td>Corporate</td>\n",
              "      <td>0</td>\n",
              "      <td>0</td>\n",
              "      <td>0</td>\n",
              "      <td>A</td>\n",
              "      <td>A</td>\n",
              "      <td>0</td>\n",
              "      <td>No Deposit</td>\n",
              "      <td>304.0</td>\n",
              "      <td>NaN</td>\n",
              "      <td>0</td>\n",
              "      <td>Transient</td>\n",
              "      <td>75.0</td>\n",
              "      <td>0</td>\n",
              "      <td>0</td>\n",
              "      <td>Check-Out</td>\n",
              "      <td>2015-07-02</td>\n",
              "    </tr>\n",
              "    <tr>\n",
              "      <th>4</th>\n",
              "      <td>Resort Hotel</td>\n",
              "      <td>0</td>\n",
              "      <td>14</td>\n",
              "      <td>2015</td>\n",
              "      <td>July</td>\n",
              "      <td>27</td>\n",
              "      <td>1</td>\n",
              "      <td>0</td>\n",
              "      <td>2</td>\n",
              "      <td>2</td>\n",
              "      <td>0.0</td>\n",
              "      <td>0</td>\n",
              "      <td>BB</td>\n",
              "      <td>GBR</td>\n",
              "      <td>Online TA</td>\n",
              "      <td>TA/TO</td>\n",
              "      <td>0</td>\n",
              "      <td>0</td>\n",
              "      <td>0</td>\n",
              "      <td>A</td>\n",
              "      <td>A</td>\n",
              "      <td>0</td>\n",
              "      <td>No Deposit</td>\n",
              "      <td>240.0</td>\n",
              "      <td>NaN</td>\n",
              "      <td>0</td>\n",
              "      <td>Transient</td>\n",
              "      <td>98.0</td>\n",
              "      <td>0</td>\n",
              "      <td>1</td>\n",
              "      <td>Check-Out</td>\n",
              "      <td>2015-07-03</td>\n",
              "    </tr>\n",
              "  </tbody>\n",
              "</table>\n",
              "</div>"
            ],
            "text/plain": [
              "          hotel  is_canceled  ...  reservation_status  reservation_status_date\n",
              "0  Resort Hotel            0  ...           Check-Out               2015-07-01\n",
              "1  Resort Hotel            0  ...           Check-Out               2015-07-01\n",
              "2  Resort Hotel            0  ...           Check-Out               2015-07-02\n",
              "3  Resort Hotel            0  ...           Check-Out               2015-07-02\n",
              "4  Resort Hotel            0  ...           Check-Out               2015-07-03\n",
              "\n",
              "[5 rows x 32 columns]"
            ]
          },
          "metadata": {},
          "execution_count": 5
        }
      ]
    },
    {
      "cell_type": "markdown",
      "metadata": {
        "id": "TQW_ybaGOY66"
      },
      "source": [
        "Now We check how many rows & columns has the hotel_data"
      ]
    },
    {
      "cell_type": "code",
      "metadata": {
        "id": "QX1ckiCNk4jv",
        "colab": {
          "base_uri": "https://localhost:8080/"
        },
        "outputId": "26f24ac6-0af5-4054-c513-b3f38b10b086"
      },
      "source": [
        "hotel_data.shape"
      ],
      "execution_count": 6,
      "outputs": [
        {
          "output_type": "execute_result",
          "data": {
            "text/plain": [
              "(119390, 32)"
            ]
          },
          "metadata": {},
          "execution_count": 6
        }
      ]
    },
    {
      "cell_type": "markdown",
      "metadata": {
        "id": "1OHxYoGvO2OK"
      },
      "source": [
        "###Excellent! now we know that our dataset has 119390 rows.\n",
        "\n",
        "Now lets check how many cells are missing from our dataset."
      ]
    },
    {
      "cell_type": "code",
      "metadata": {
        "id": "Kirai7yLQf_K",
        "colab": {
          "base_uri": "https://localhost:8080/"
        },
        "outputId": "c835a4ef-36c3-4df5-a20d-4b4c1d17cd4b"
      },
      "source": [
        "hotel_data.info()"
      ],
      "execution_count": 7,
      "outputs": [
        {
          "output_type": "stream",
          "name": "stdout",
          "text": [
            "<class 'pandas.core.frame.DataFrame'>\n",
            "RangeIndex: 119390 entries, 0 to 119389\n",
            "Data columns (total 32 columns):\n",
            " #   Column                          Non-Null Count   Dtype  \n",
            "---  ------                          --------------   -----  \n",
            " 0   hotel                           119390 non-null  object \n",
            " 1   is_canceled                     119390 non-null  int64  \n",
            " 2   lead_time                       119390 non-null  int64  \n",
            " 3   arrival_date_year               119390 non-null  int64  \n",
            " 4   arrival_date_month              119390 non-null  object \n",
            " 5   arrival_date_week_number        119390 non-null  int64  \n",
            " 6   arrival_date_day_of_month       119390 non-null  int64  \n",
            " 7   stays_in_weekend_nights         119390 non-null  int64  \n",
            " 8   stays_in_week_nights            119390 non-null  int64  \n",
            " 9   adults                          119390 non-null  int64  \n",
            " 10  children                        119386 non-null  float64\n",
            " 11  babies                          119390 non-null  int64  \n",
            " 12  meal                            119390 non-null  object \n",
            " 13  country                         118902 non-null  object \n",
            " 14  market_segment                  119390 non-null  object \n",
            " 15  distribution_channel            119390 non-null  object \n",
            " 16  is_repeated_guest               119390 non-null  int64  \n",
            " 17  previous_cancellations          119390 non-null  int64  \n",
            " 18  previous_bookings_not_canceled  119390 non-null  int64  \n",
            " 19  reserved_room_type              119390 non-null  object \n",
            " 20  assigned_room_type              119390 non-null  object \n",
            " 21  booking_changes                 119390 non-null  int64  \n",
            " 22  deposit_type                    119390 non-null  object \n",
            " 23  agent                           103050 non-null  float64\n",
            " 24  company                         6797 non-null    float64\n",
            " 25  days_in_waiting_list            119390 non-null  int64  \n",
            " 26  customer_type                   119390 non-null  object \n",
            " 27  adr                             119390 non-null  float64\n",
            " 28  required_car_parking_spaces     119390 non-null  int64  \n",
            " 29  total_of_special_requests       119390 non-null  int64  \n",
            " 30  reservation_status              119390 non-null  object \n",
            " 31  reservation_status_date         119390 non-null  object \n",
            "dtypes: float64(4), int64(16), object(12)\n",
            "memory usage: 29.1+ MB\n"
          ]
        }
      ]
    },
    {
      "cell_type": "markdown",
      "metadata": {
        "id": "_nlcF5vVQ_DM"
      },
      "source": [
        "##Lets check irt out in short description..."
      ]
    },
    {
      "cell_type": "code",
      "metadata": {
        "id": "ohWUP4EmO1dZ",
        "colab": {
          "base_uri": "https://localhost:8080/"
        },
        "outputId": "551aafd6-6c41-4b1e-9fe1-3c671ffbaf6e"
      },
      "source": [
        "hotel_data.isnull().sum()"
      ],
      "execution_count": 8,
      "outputs": [
        {
          "output_type": "execute_result",
          "data": {
            "text/plain": [
              "hotel                                  0\n",
              "is_canceled                            0\n",
              "lead_time                              0\n",
              "arrival_date_year                      0\n",
              "arrival_date_month                     0\n",
              "arrival_date_week_number               0\n",
              "arrival_date_day_of_month              0\n",
              "stays_in_weekend_nights                0\n",
              "stays_in_week_nights                   0\n",
              "adults                                 0\n",
              "children                               4\n",
              "babies                                 0\n",
              "meal                                   0\n",
              "country                              488\n",
              "market_segment                         0\n",
              "distribution_channel                   0\n",
              "is_repeated_guest                      0\n",
              "previous_cancellations                 0\n",
              "previous_bookings_not_canceled         0\n",
              "reserved_room_type                     0\n",
              "assigned_room_type                     0\n",
              "booking_changes                        0\n",
              "deposit_type                           0\n",
              "agent                              16340\n",
              "company                           112593\n",
              "days_in_waiting_list                   0\n",
              "customer_type                          0\n",
              "adr                                    0\n",
              "required_car_parking_spaces            0\n",
              "total_of_special_requests              0\n",
              "reservation_status                     0\n",
              "reservation_status_date                0\n",
              "dtype: int64"
            ]
          },
          "metadata": {},
          "execution_count": 8
        }
      ]
    },
    {
      "cell_type": "markdown",
      "metadata": {
        "id": "ODivL_JAPrYB"
      },
      "source": [
        "##We can see that we have four columns with missing values. Lets check these values in form of percentile"
      ]
    },
    {
      "cell_type": "code",
      "metadata": {
        "id": "4XABZBO-P0Xh",
        "colab": {
          "base_uri": "https://localhost:8080/"
        },
        "outputId": "a4b87af5-96ae-445d-8187-705c60b22cc6"
      },
      "source": [
        "hotel_data.isnull().sum()/len(hotel_data.index)*100"
      ],
      "execution_count": 9,
      "outputs": [
        {
          "output_type": "execute_result",
          "data": {
            "text/plain": [
              "hotel                              0.000000\n",
              "is_canceled                        0.000000\n",
              "lead_time                          0.000000\n",
              "arrival_date_year                  0.000000\n",
              "arrival_date_month                 0.000000\n",
              "arrival_date_week_number           0.000000\n",
              "arrival_date_day_of_month          0.000000\n",
              "stays_in_weekend_nights            0.000000\n",
              "stays_in_week_nights               0.000000\n",
              "adults                             0.000000\n",
              "children                           0.003350\n",
              "babies                             0.000000\n",
              "meal                               0.000000\n",
              "country                            0.408744\n",
              "market_segment                     0.000000\n",
              "distribution_channel               0.000000\n",
              "is_repeated_guest                  0.000000\n",
              "previous_cancellations             0.000000\n",
              "previous_bookings_not_canceled     0.000000\n",
              "reserved_room_type                 0.000000\n",
              "assigned_room_type                 0.000000\n",
              "booking_changes                    0.000000\n",
              "deposit_type                       0.000000\n",
              "agent                             13.686238\n",
              "company                           94.306893\n",
              "days_in_waiting_list               0.000000\n",
              "customer_type                      0.000000\n",
              "adr                                0.000000\n",
              "required_car_parking_spaces        0.000000\n",
              "total_of_special_requests          0.000000\n",
              "reservation_status                 0.000000\n",
              "reservation_status_date            0.000000\n",
              "dtype: float64"
            ]
          },
          "metadata": {},
          "execution_count": 9
        }
      ]
    },
    {
      "cell_type": "markdown",
      "metadata": {
        "id": "bNyHYEAHQsLv"
      },
      "source": [
        "So  now we are sure about The columns **“agent”** and **“company”** have a high percentage of missing values. As these columns won’t be relevant for our analysis, we can delete them.\n",
        "###**for making our work easy lets clean up the data.**"
      ]
    },
    {
      "cell_type": "code",
      "metadata": {
        "id": "LLONZpGkSQ_Z"
      },
      "source": [
        "# deleting company and agent columns\n",
        "hotel_data=hotel_data.drop(['agent','company'], axis=1)"
      ],
      "execution_count": 10,
      "outputs": []
    },
    {
      "cell_type": "markdown",
      "metadata": {
        "id": "yeolXrOCSjRr"
      },
      "source": [
        "The columns **“children”** and **“country”** have a low percentage of missing values. We will **remove** the full row on missing cells.\n",
        "\n",
        "\n",
        "also we do for same rows which contains missing or null values"
      ]
    },
    {
      "cell_type": "code",
      "metadata": {
        "id": "tFQaG7-sS0eu"
      },
      "source": [
        " # deleting  rows with empty cells\n",
        " hotel_data = hotel_data.dropna(axis = 0)"
      ],
      "execution_count": 11,
      "outputs": []
    },
    {
      "cell_type": "markdown",
      "metadata": {
        "id": "RApgzx4MUOnK"
      },
      "source": [
        "In our Analysis we do not required  **days_in_waiting_list** \n",
        "\n",
        "say it **bye bye!**"
      ]
    },
    {
      "cell_type": "code",
      "metadata": {
        "id": "29IG20CSVU7a"
      },
      "source": [
        " #  deleting days_in_waiting_list column\n",
        " hotel_data = hotel_data.drop(labels='days_in_waiting_list', axis=1)"
      ],
      "execution_count": 12,
      "outputs": []
    },
    {
      "cell_type": "markdown",
      "metadata": {
        "id": "qS3bLf6sV_0v"
      },
      "source": [
        "Lets check again the missing values. are they gone or just peaking again.\n",
        "\n",
        "also check the no of columns"
      ]
    },
    {
      "cell_type": "code",
      "metadata": {
        "id": "AY3cku0jWG2j",
        "colab": {
          "base_uri": "https://localhost:8080/"
        },
        "outputId": "448c095f-757f-4e23-af8c-ad8bbb553204"
      },
      "source": [
        "hotel_data.isnull().sum()"
      ],
      "execution_count": 13,
      "outputs": [
        {
          "output_type": "execute_result",
          "data": {
            "text/plain": [
              "hotel                             0\n",
              "is_canceled                       0\n",
              "lead_time                         0\n",
              "arrival_date_year                 0\n",
              "arrival_date_month                0\n",
              "arrival_date_week_number          0\n",
              "arrival_date_day_of_month         0\n",
              "stays_in_weekend_nights           0\n",
              "stays_in_week_nights              0\n",
              "adults                            0\n",
              "children                          0\n",
              "babies                            0\n",
              "meal                              0\n",
              "country                           0\n",
              "market_segment                    0\n",
              "distribution_channel              0\n",
              "is_repeated_guest                 0\n",
              "previous_cancellations            0\n",
              "previous_bookings_not_canceled    0\n",
              "reserved_room_type                0\n",
              "assigned_room_type                0\n",
              "booking_changes                   0\n",
              "deposit_type                      0\n",
              "customer_type                     0\n",
              "adr                               0\n",
              "required_car_parking_spaces       0\n",
              "total_of_special_requests         0\n",
              "reservation_status                0\n",
              "reservation_status_date           0\n",
              "dtype: int64"
            ]
          },
          "metadata": {},
          "execution_count": 13
        }
      ]
    },
    {
      "cell_type": "markdown",
      "metadata": {
        "id": "9v7Hlf5Lb642"
      },
      "source": [
        "Done with the missing values."
      ]
    },
    {
      "cell_type": "code",
      "metadata": {
        "id": "nKgEZxqKXHtJ",
        "colab": {
          "base_uri": "https://localhost:8080/"
        },
        "outputId": "3d90110a-863a-4f7b-d3a6-45181853d5bc"
      },
      "source": [
        "hotel_data.shape"
      ],
      "execution_count": 14,
      "outputs": [
        {
          "output_type": "execute_result",
          "data": {
            "text/plain": [
              "(118898, 29)"
            ]
          },
          "metadata": {},
          "execution_count": 14
        }
      ]
    },
    {
      "cell_type": "markdown",
      "metadata": {
        "id": "1vI2MzpPb9sW"
      },
      "source": [
        "should i change arrival_date_year to be categorical?\n",
        "lets do it"
      ]
    },
    {
      "cell_type": "code",
      "metadata": {
        "id": "RP0r1N7LcPYa"
      },
      "source": [
        "hotel_data['arrival_date_year'] = hotel_data['arrival_date_year'].apply(lambda x: str(x))\n"
      ],
      "execution_count": 16,
      "outputs": []
    },
    {
      "cell_type": "markdown",
      "metadata": {
        "id": "KgScaDWtfK9e"
      },
      "source": [
        "###**1. What type of hotel has more bookings?**"
      ]
    },
    {
      "cell_type": "code",
      "metadata": {
        "id": "uGywvgk3fPOC"
      },
      "source": [
        "# exploring the pie chart\n",
        "plt.rcParams['figure.figsize'] = 10,10\n",
        "\n",
        "# assigning labels and converting them to list \n",
        "labels = hotel_data['hotel'].value_counts().index.tolist()\n",
        "\n",
        "# assigning magnitude and converting to list\n",
        "sizes = hotel_data['hotel'].value_counts().tolist()\n",
        "\n",
        "# assigning pie chart color\n",
        "colors = [\"green\",\"blue\"]"
      ],
      "execution_count": 20,
      "outputs": []
    },
    {
      "cell_type": "code",
      "metadata": {
        "id": "HylhDqJQPVto",
        "colab": {
          "base_uri": "https://localhost:8080/",
          "height": 575
        },
        "outputId": "3f6360fb-38aa-4460-f6e4-e068b77fc607"
      },
      "source": [
        "# creating pie chart\n",
        "# autopct enables you to display the percent value using Python string formatting. .1f% will round off to the tenth place.\n",
        "# startangle will allow the percentage to rotate counter-clockwise. Lets say we have 4 portions: 10%, 30%, 20% and 40%. The pie will rotate from smallest to the biggest (counter clockwise). 10% -> 20% -> 30% -> 40%\n",
        "# We have only 2 sections so anglestart does not matter\n",
        "# textprops will adjust the size of text\n",
        "plt.pie(sizes,labels=labels,colors=colors,autopct='%1.1f%%',startangle=90, textprops={'fontsize': 18})\n",
        "plt.show()"
      ],
      "execution_count": 21,
      "outputs": [
        {
          "output_type": "display_data",
          "data": {
            "image/png": "[encoded data removed]",
            "text/plain": [
              "<Figure size 720x720 with 1 Axes>"
            ]
          },
          "metadata": {}
        }
      ]
    },
    {
      "cell_type": "markdown",
      "metadata": {
        "id": "K3Xu4wLePw9n"
      },
      "source": [
        " majority of the bookings were made in city hotels. This could be because city hotels tend to be cheaper, everything is more accessible and more suitable for individuals or small groups of visitors."
      ]
    },
    {
      "cell_type": "markdown",
      "metadata": {
        "id": "xqScNINMQAiv"
      },
      "source": [
        "##**2. Which are the most busy months?**"
      ]
    },
    {
      "cell_type": "code",
      "metadata": {
        "id": "EDPKHCrbQHYq",
        "colab": {
          "base_uri": "https://localhost:8080/",
          "height": 350
        },
        "outputId": "69acc3c2-5728-40a7-ea06-5faeae619bca"
      },
      "source": [
        "# We can simply use a countplot as we sre visualising categorical data\n",
        "plt.figure(figsize=(20,5))\n",
        "\n",
        "# data we will use in a list\n",
        "list1 = ['hotel','arrival_date_month']\n",
        "\n",
        "# plotting\n",
        "sns.countplot(data = hotel_data[list1],x= \"arrival_date_month\",hue=\"hotel\",order=[\"January\",\"February\",\"March\",\"April\",\"May\",\"June\",\n",
        "                                                                              \"July\",\"August\",\"September\",\"October\",\"November\",\"December\"]).set_title(\n",
        "'Illustration of Number of Visitors Each Month')\n",
        "plt.xlabel('Months')\n",
        "plt.ylabel('Count')\n",
        "plt.show()"
      ],
      "execution_count": 22,
      "outputs": [
        {
          "output_type": "display_data",
          "data": {
            "image/png": "[encoded data removed]",
            "text/plain": [
              "<Figure size 1440x360 with 1 Axes>"
            ]
          },
          "metadata": {
            "needs_background": "light"
          }
        }
      ]
    },
    {
      "cell_type": "markdown",
      "metadata": {
        "id": "_NIsdaJwQlv6"
      },
      "source": [
        "From our visualisation, we can clarify that August is the busiest month for both City hotels and Resort hotels whereas bookings are lowest during January for both types of hotels. This could be because of weather conditions as people prefer going for vacation during more comfortable seasons such as Spring/Summer and not during Winter."
      ]
    },
    {
      "cell_type": "markdown",
      "metadata": {
        "id": "hTIjQt3mQy-U"
      },
      "source": [
        "##**3. Cancellation rates in the two types of hotels.**"
      ]
    },
    {
      "cell_type": "code",
      "metadata": {
        "id": "sXwkWMpXQyb7",
        "colab": {
          "base_uri": "https://localhost:8080/",
          "height": 404
        },
        "outputId": "17c81729-b150-46b7-edf6-c77d63a45e6f"
      },
      "source": [
        "# First we will check proportion of bookings that were cancelled\n",
        "plt.figure(figsize=(10,5))\n",
        "# Replacing the 1s and 0s in the is_cancelled column to cancelled and not cancelled. \n",
        "hotel_data['is_canceled'] = hotel_data.is_canceled.replace([1,0],[\"Cancelled\",\"Not Cancelled\"])\n",
        "cancelled_data = hotel_data['is_canceled']\n",
        "\n",
        "# Plotting a countplot\n",
        "sns.countplot(cancelled_data).set_title(\"Cancellation Overview\")\n",
        "plt.xlabel(\"Bookings Cancelled\")\n",
        "plt.ylabel('Average Counts')\n",
        "plt.show()"
      ],
      "execution_count": 24,
      "outputs": [
        {
          "output_type": "stream",
          "name": "stderr",
          "text": [
            "/usr/local/lib/python3.7/dist-packages/seaborn/_decorators.py:43: FutureWarning: Pass the following variable as a keyword arg: x. From version 0.12, the only valid positional argument will be `data`, and passing other arguments without an explicit keyword will result in an error or misinterpretation.\n",
            "  FutureWarning\n"
          ]
        },
        {
          "output_type": "display_data",
          "data": {
            "image/png": "[encoded data removed]",
            "text/plain": [
              "<Figure size 720x360 with 1 Axes>"
            ]
          },
          "metadata": {
            "needs_background": "light"
          }
        }
      ]
    },
    {
      "cell_type": "markdown",
      "metadata": {
        "id": "sH07eoWPRChF"
      },
      "source": [
        "### **We can see that more than 60% of the bookings were not cancelled.**"
      ]
    },
    {
      "cell_type": "code",
      "metadata": {
        "id": "ygD1qQEFRVBx",
        "colab": {
          "base_uri": "https://localhost:8080/",
          "height": 111
        },
        "outputId": "75e20bf1-ba61-4966-e9c1-566d18289220"
      },
      "source": [
        "# Let's look into how much of bookings were cancelled in each type of hotel\n",
        "lst1 = ['is_canceled', 'hotel']\n",
        "type_of_hotel_canceled = hotel_data[lst1]\n",
        "canceled_hotel = type_of_hotel_canceled[type_of_hotel_canceled['is_canceled'] == 'Cancelled'].groupby(['hotel']).size().reset_index(name = 'count')\n",
        "canceled_hotel"
      ],
      "execution_count": 25,
      "outputs": [
        {
          "output_type": "execute_result",
          "data": {
            "text/html": [
              "<div>\n",
              "<style scoped>\n",
              "    .dataframe tbody tr th:only-of-type {\n",
              "        vertical-align: middle;\n",
              "    }\n",
              "\n",
              "    .dataframe tbody tr th {\n",
              "        vertical-align: top;\n",
              "    }\n",
              "\n",
              "    .dataframe thead th {\n",
              "        text-align: right;\n",
              "    }\n",
              "</style>\n",
              "<table border=\"1\" class=\"dataframe\">\n",
              "  <thead>\n",
              "    <tr style=\"text-align: right;\">\n",
              "      <th></th>\n",
              "      <th>hotel</th>\n",
              "      <th>count</th>\n",
              "    </tr>\n",
              "  </thead>\n",
              "  <tbody>\n",
              "    <tr>\n",
              "      <th>0</th>\n",
              "      <td>City Hotel</td>\n",
              "      <td>33102</td>\n",
              "    </tr>\n",
              "    <tr>\n",
              "      <th>1</th>\n",
              "      <td>Resort Hotel</td>\n",
              "      <td>11122</td>\n",
              "    </tr>\n",
              "  </tbody>\n",
              "</table>\n",
              "</div>"
            ],
            "text/plain": [
              "          hotel  count\n",
              "0    City Hotel  33102\n",
              "1  Resort Hotel  11122"
            ]
          },
          "metadata": {},
          "execution_count": 25
        }
      ]
    },
    {
      "cell_type": "markdown",
      "metadata": {
        "id": "CUnGw9IvSRFN"
      },
      "source": [
        "### **4. Types of visitors? (No. of adults, children, babies)**"
      ]
    },
    {
      "cell_type": "markdown",
      "metadata": {
        "id": "Ewfw7L8XCtsk"
      },
      "source": [
        "##**Adults**"
      ]
    },
    {
      "cell_type": "code",
      "metadata": {
        "id": "vt7WADxVSZAM",
        "colab": {
          "base_uri": "https://localhost:8080/",
          "height": 638
        },
        "outputId": "24758720-8940-4c5c-9c9d-4cb31dac8c89"
      },
      "source": [
        "# i will just look at number of adults that visit each hotel.using  countplot as data is categorical.\n",
        "sns.countplot(data=hotel_data,x='adults',hue='hotel').set_title(\"Illustration of number of adults visiting each hotel\")"
      ],
      "execution_count": 26,
      "outputs": [
        {
          "output_type": "execute_result",
          "data": {
            "text/plain": [
              "Text(0.5, 1.0, 'Illustration of number of adults visiting each hotel')"
            ]
          },
          "metadata": {},
          "execution_count": 26
        },
        {
          "output_type": "display_data",
          "data": {
            "image/png": "[encoded data removed]",
            "text/plain": [
              "<Figure size 720x720 with 1 Axes>"
            ]
          },
          "metadata": {
            "needs_background": "light"
          }
        }
      ]
    },
    {
      "cell_type": "markdown",
      "metadata": {
        "id": "rLbgLCO1C2Rk"
      },
      "source": [
        "##**Children**"
      ]
    },
    {
      "cell_type": "code",
      "metadata": {
        "id": "ECoFxyPcKjD4",
        "colab": {
          "base_uri": "https://localhost:8080/",
          "height": 638
        },
        "outputId": "a7c8f482-edab-4728-c4cf-0ab8e5b45e79"
      },
      "source": [
        "# I'll do the same for children and babies as adults\n",
        "sns.countplot(data=hotel_data,x='children',hue='hotel').set_title(\"Illustration of number of children\")"
      ],
      "execution_count": 27,
      "outputs": [
        {
          "output_type": "execute_result",
          "data": {
            "text/plain": [
              "Text(0.5, 1.0, 'Illustration of number of children')"
            ]
          },
          "metadata": {},
          "execution_count": 27
        },
        {
          "output_type": "display_data",
          "data": {
            "image/png": "[encoded data removed]",
            "text/plain": [
              "<Figure size 720x720 with 1 Axes>"
            ]
          },
          "metadata": {
            "needs_background": "light"
          }
        }
      ]
    },
    {
      "cell_type": "markdown",
      "metadata": {
        "id": "CNk1Vq1xC_sb"
      },
      "source": [
        "##**Babies**"
      ]
    },
    {
      "cell_type": "code",
      "metadata": {
        "id": "_68s-EBALtr8",
        "colab": {
          "base_uri": "https://localhost:8080/",
          "height": 638
        },
        "outputId": "06271aa1-6d01-4152-f2c0-7dd6d9221251"
      },
      "source": [
        "sns.countplot(data=hotel_data,x='babies',hue='hotel').set_title(\"Illustration of number of babies\")"
      ],
      "execution_count": 28,
      "outputs": [
        {
          "output_type": "execute_result",
          "data": {
            "text/plain": [
              "Text(0.5, 1.0, 'Illustration of number of babies')"
            ]
          },
          "metadata": {},
          "execution_count": 28
        },
        {
          "output_type": "display_data",
          "data": {
            "image/png": "[encoded data removed]",
            "text/plain": [
              "<Figure size 720x720 with 1 Axes>"
            ]
          },
          "metadata": {
            "needs_background": "light"
          }
        }
      ]
    },
    {
      "cell_type": "markdown",
      "metadata": {
        "id": "AxoSDBp-MMtg"
      },
      "source": [
        "##**From what we can see in the three plots, among adults mostly couples/two people make reservations in each hotel. For both hotels, it is common for poeple to not bring children or babies along but if they do, at most 1-2 children or 1 baby.**\n",
        "\n"
      ]
    },
    {
      "cell_type": "markdown",
      "metadata": {
        "id": "EpJmMa3xMZAq"
      },
      "source": [
        "##**5. Repeated guests.**"
      ]
    },
    {
      "cell_type": "code",
      "metadata": {
        "id": "peYaHg38MeTu",
        "colab": {
          "base_uri": "https://localhost:8080/",
          "height": 639
        },
        "outputId": "064d9952-66f9-41af-91b4-057296dcbdf3"
      },
      "source": [
        "# I will again use a countplot as we will only see how many guests visited back again in each hotel.\n",
        "sns.countplot(data=hotel_data,x=\"is_repeated_guest\",hue=\"hotel\").set_title(\"Illustration of number of repeated guests\")\n"
      ],
      "execution_count": 29,
      "outputs": [
        {
          "output_type": "execute_result",
          "data": {
            "text/plain": [
              "Text(0.5, 1.0, 'Illustration of number of repeated guests')"
            ]
          },
          "metadata": {},
          "execution_count": 29
        },
        {
          "output_type": "display_data",
          "data": {
            "image/png": "[encoded data removed]",
            "text/plain": [
              "<Figure size 720x720 with 1 Axes>"
            ]
          },
          "metadata": {
            "needs_background": "light"
          }
        }
      ]
    },
    {
      "cell_type": "markdown",
      "metadata": {
        "id": "2Do9LpZMNBQy"
      },
      "source": [
        "##**0 means not repeated and 1 means repeated. So we can see that most guests didn't return for visit.**\n",
        "\n",
        "###**basicallyy we know about the relation for 0 and 1 not present and present respectively...**"
      ]
    },
    {
      "cell_type": "markdown",
      "metadata": {
        "id": "1XPMuAWbXLom"
      },
      "source": [
        "#**Final Analysis**\n",
        "## Here's what the hotels can do to improve business in the future:\n",
        "\n",
        "*  Resort hotels tend to have less bookings in comparison to city hotels so they need to work on their marketing strategy and promote the hotels more, especially on social media.\n",
        "\n",
        "\n",
        "*   Resort hotels could also reduce prices to increases booking percentages.\n",
        "*   May-August happens to be the busiest months but so the hotels should target more customers and try to do more business during these times.\n",
        "*  Although city hotels have more bookings, they also tend to have more cancellations so to prevent this they could take advance money during vacation. This would ensure most bookings to not being cancelled. They could also apply no-refund policies or make the refund policies rather strict so the customers choose not to cancel.\n",
        "*  It is quite clear most customers travel in pairs and bringing children or babies along are very rare so the hotels could advertise in ways that attract couples more and also business travellers.\n",
        "*  Most guests do not return but as these customers have already visited once, advertisements should be targeted in such ways so they are bound to return the next time they visit. The customers could also be offered special benefits if they do return to stay.\n",
        "\n"
      ]
    }
  ]
}